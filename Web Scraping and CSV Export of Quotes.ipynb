{
 "cells": [
  {
   "cell_type": "code",
   "execution_count": 19,
   "id": "7b527970",
   "metadata": {},
   "outputs": [],
   "source": [
    "# Import necessary libraries\n",
    "from bs4 import BeautifulSoup\n",
    "import requests\n",
    "import csv"
   ]
  },
  {
   "cell_type": "code",
   "execution_count": 20,
   "id": "d70c4a6f",
   "metadata": {},
   "outputs": [],
   "source": [
    "# # Send a GET request to the specified URL and retrieve the HTML content\n",
    "page_to_scrape = requests.get(\"https://quotes.toscrape.com/\")\n",
    "\n",
    "# Create a BeautifulSoup object to parse the HTML content\n",
    "soup = BeautifulSoup(page_to_scrape.text, \"html.parser\")\n"
   ]
  },
  {
   "cell_type": "code",
   "execution_count": 21,
   "id": "f49a03f0",
   "metadata": {},
   "outputs": [],
   "source": [
    "# Find all the <span> elements with the class \"text\" and store them in the \"quotes\" variable\n",
    "quotes = soup.findAll(\"span\", attrs={\"class\":\"text\"})\n",
    "\n",
    "# Find all the <small> elements with the class \"author\" and store them in the \"authors\" variable\n",
    "authors = soup.findAll(\"small\", attrs={\"class\":\"author\"})"
   ]
  },
  {
   "cell_type": "code",
   "execution_count": 23,
   "id": "523c6292",
   "metadata": {},
   "outputs": [
    {
     "data": {
      "text/plain": [
       "16"
      ]
     },
     "execution_count": 23,
     "metadata": {},
     "output_type": "execute_result"
    }
   ],
   "source": [
    "# Open the file in write mode and create a CSV writer\n",
    "file = open(\"scrapped_quotes.csv\", \"w\")\n",
    "writer = csv.writer(file)\n",
    "\n",
    "# Write the column headers to the CSV file\n",
    "writer.writerow([\"QUOTES\", \"AUTHORS\"])"
   ]
  },
  {
   "cell_type": "code",
   "execution_count": 24,
   "id": "9de5997d",
   "metadata": {},
   "outputs": [
    {
     "name": "stdout",
     "output_type": "stream",
     "text": [
      "“The world as we have created it is a process of our thinking. It cannot be changed without changing our thinking.” - Albert Einstein\n",
      "“It is our choices, Harry, that show what we truly are, far more than our abilities.” - J.K. Rowling\n",
      "“There are only two ways to live your life. One is as though nothing is a miracle. The other is as though everything is a miracle.” - Albert Einstein\n",
      "“The person, be it gentleman or lady, who has not pleasure in a good novel, must be intolerably stupid.” - Jane Austen\n",
      "“Imperfection is beauty, madness is genius and it's better to be absolutely ridiculous than absolutely boring.” - Marilyn Monroe\n",
      "“Try not to become a man of success. Rather become a man of value.” - Albert Einstein\n",
      "“It is better to be hated for what you are than to be loved for what you are not.” - André Gide\n",
      "“I have not failed. I've just found 10,000 ways that won't work.” - Thomas A. Edison\n",
      "“A woman is like a tea bag; you never know how strong it is until it's in hot water.” - Eleanor Roosevelt\n",
      "“A day without sunshine is like, you know, night.” - Steve Martin\n"
     ]
    }
   ],
   "source": [
    "# Iterate over the quotes and authors simultaneously using zip\n",
    "for quote, author in zip(quotes, authors):\n",
    "    # Print the quote and author to the console\n",
    "    print(quote.text + \" - \" + author.text)\n",
    "    \n",
    "    # Write the quote and author to the CSV file\n",
    "    writer.writerow([quote.text, author.text])\n",
    "\n",
    "# Close the file\n",
    "file.close()"
   ]
  },
  {
   "cell_type": "code",
   "execution_count": null,
   "id": "072bb682",
   "metadata": {},
   "outputs": [],
   "source": []
  }
 ],
 "metadata": {
  "kernelspec": {
   "display_name": "Python 3 (ipykernel)",
   "language": "python",
   "name": "python3"
  },
  "language_info": {
   "codemirror_mode": {
    "name": "ipython",
    "version": 3
   },
   "file_extension": ".py",
   "mimetype": "text/x-python",
   "name": "python",
   "nbconvert_exporter": "python",
   "pygments_lexer": "ipython3",
   "version": "3.9.15"
  }
 },
 "nbformat": 4,
 "nbformat_minor": 5
}
